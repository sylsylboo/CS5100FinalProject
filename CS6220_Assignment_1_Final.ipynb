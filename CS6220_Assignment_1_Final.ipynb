{
  "cells": [
    {
      "cell_type": "markdown",
      "metadata": {
        "id": "view-in-github",
        "colab_type": "text"
      },
      "source": [
        "<a href=\"https://colab.research.google.com/github/sylsylboo/CS5100FinalProject/blob/main/CS6220_Assignment_1_Final.ipynb\" target=\"_parent\"><img src=\"https://colab.research.google.com/assets/colab-badge.svg\" alt=\"Open In Colab\"/></a>"
      ]
    },
    {
      "cell_type": "code",
      "execution_count": 1,
      "metadata": {
        "id": "bdM6NSRawQsw",
        "colab": {
          "base_uri": "https://localhost:8080/"
        },
        "outputId": "f20236ce-eebb-4e7e-8c22-808d18fc86ea",
        "cellView": "form"
      },
      "outputs": [
        {
          "output_type": "stream",
          "name": "stdout",
          "text": [
            "Data in combined_data_1.txt looks like this: \n",
            "\n",
            "1:\n",
            "1488844,3,2005-09-06\n",
            "822109,5,2005-05-13\n",
            "885013,4,2005-10-19\n",
            "30878,4,2005-12-26\n",
            "\n",
            "\n",
            "Data in movie_titles.csv looks like this: \n",
            "\n",
            "1,2003,Dinosaur Planet\n",
            "2,2004,Isle of Man TT 2004 Review\n",
            "3,1997,Character\n",
            "4,1994,Paula Abdul's Get Up & Dance\n",
            "5,2004,The Rise and Fall of ECW\n",
            "\n",
            "\n",
            "Data in basket_data.csv looks like this: \n",
            "\n",
            "ketchup, butter, diapers\n",
            "bread, diapers, ketchup\n",
            "butter, bread, ketchup\n",
            "diapers, butter\n",
            "ketchup, butter, diapers, beer\n"
          ]
        }
      ],
      "source": [
        "#@title Download the data from website\n",
        "!wget -nc --no-check-certificate https://course.ccs.neu.edu/cs6220/fall2023/homework-1/netflix-data/movie_titles.csv\n",
        "!wget -nc --no-check-certificate https://course.ccs.neu.edu/cs6220/fall2023/homework-1/netflix-data/combined_data_1.txt\n",
        "!wget -nc --no-check-certificate https://course.ccs.neu.edu/cs6220/fall2023/homework-1/netflix-data/combined_data_2.txt\n",
        "!wget -nc --no-check-certificate https://course.ccs.neu.edu/cs6220/fall2023/homework-1/netflix-data/combined_data_3.txt\n",
        "!wget -nc --no-check-certificate https://course.ccs.neu.edu/cs6220/fall2023/homework-1/netflix-data/combined_data_4.txt\n",
        "!wget -nc --no-check-certificate https://course.ccs.neu.edu/cs6220/fall2024/homework-1/basket_data.csv # for basket data\n",
        "\n",
        "from IPython.display import clear_output\n",
        "clear_output()\n",
        "\n",
        "print(\"Data in combined_data_1.txt looks like this: \\n\")\n",
        "!head -5 combined_data_1.txt\n",
        "\n",
        "print(\"\\n\\nData in movie_titles.csv looks like this: \\n\")\n",
        "!head -5 movie_titles.csv\n",
        "\n",
        "print(\"\\n\\nData in basket_data.csv looks like this: \\n\")\n",
        "!head -5 basket_data.csv"
      ]
    },
    {
      "cell_type": "markdown",
      "source": [
        "### Cardinality of a Set"
      ],
      "metadata": {
        "id": "qbDWR7oYo9DZ"
      }
    },
    {
      "cell_type": "code",
      "source": [
        "# f = open(\"movie_titles.csv\", encoding =\"cp1252\")\n",
        "# data_lines = open(\"combined_data_1.txt\", \"r\").readlines()"
      ],
      "metadata": {
        "id": "yljOq5Mod1Q2"
      },
      "execution_count": 2,
      "outputs": []
    },
    {
      "cell_type": "code",
      "source": [
        "def cardinality_items(filename):\n",
        "  '''\n",
        "  Takes a filename \"*.csv\" and returns an integer\n",
        "  '''\n",
        "  unique_items = set()\n",
        "  with open(filename, 'r') as file:\n",
        "    for line in file:\n",
        "      items = line.strip().split(',')\n",
        "      for item in items:\n",
        "        unique_items.add(item.strip().lower())\n",
        "    return unique_items"
      ],
      "metadata": {
        "id": "Uw-Vu5n9pSE5"
      },
      "execution_count": 34,
      "outputs": []
    },
    {
      "cell_type": "code",
      "source": [
        "cardinality = cardinality_items(\"basket_data.csv\")\n",
        "print(len(cardinality))"
      ],
      "metadata": {
        "colab": {
          "base_uri": "https://localhost:8080/"
        },
        "id": "NLFb0hMNp0SI",
        "outputId": "d2eab924-b80f-4628-f4db-04c13b05ff03"
      },
      "execution_count": 35,
      "outputs": [
        {
          "output_type": "stream",
          "name": "stdout",
          "text": [
            "21\n"
          ]
        }
      ]
    },
    {
      "cell_type": "code",
      "source": [
        "# tried using pandas, but did not work with dataset with differen number of columns in each row\n",
        "# df = pd.read_csv('basket_data.csv', header=None, engine='python')"
      ],
      "metadata": {
        "id": "EVriaC3zp5D0"
      },
      "execution_count": 31,
      "outputs": []
    },
    {
      "cell_type": "markdown",
      "source": [
        "### All Possible Unique Itemsets with non-repeating k items (combinations)"
      ],
      "metadata": {
        "id": "gVsjACjR0KcY"
      }
    },
    {
      "cell_type": "code",
      "source": [
        "def all_itemsets(unique_items, k):\n",
        "  '''\n",
        "  Enumerate out all itemsets. For each itemset, the order does not matter -> combination\n",
        "\n",
        "  Input:\n",
        "  - unique_items: a list of items (should be unique)\n",
        "  - k: an integer to indicate the number of items for each itemset\n",
        "\n",
        "  Output\n",
        "  - all_itemsets: a list of lists, representing all possible baskets of items\n",
        "  '''\n",
        "\n",
        "  # base case\n",
        "  if k == 0:\n",
        "    return [[]]\n",
        "\n",
        "  if (len(unique_items) < k):\n",
        "    return []\n",
        "\n",
        "  # recursive case\n",
        "  result = []\n",
        "\n",
        "  for i in range(len(unique_items)):\n",
        "    # take the current item\n",
        "    current_item = unique_items[i]\n",
        "\n",
        "    remaining_itemsets = all_itemsets(unique_items[i+1:], k-1)\n",
        "\n",
        "    # add the current item to each itemset generated from the remaining\n",
        "    if remaining_itemsets:\n",
        "      for itemset in remaining_itemsets:\n",
        "        result.append([current_item] + itemset)\n",
        "\n",
        "  with open('output.txt', 'w') as f:\n",
        "    for itemset in result:\n",
        "      f.write(', '.join(itemset) + \"\\n\")\n",
        "  return result"
      ],
      "metadata": {
        "id": "ZdAfZG8U0S4T"
      },
      "execution_count": 64,
      "outputs": []
    },
    {
      "cell_type": "code",
      "source": [
        "items = ['ham', 'cheese', 'bread']\n",
        "print(all_itemsets(items, 2))"
      ],
      "metadata": {
        "colab": {
          "base_uri": "https://localhost:8080/"
        },
        "id": "NVecXTaJ18FT",
        "outputId": "ff17df57-8ef3-4cfd-a1d2-3b7c56484c41"
      },
      "execution_count": 127,
      "outputs": [
        {
          "output_type": "stream",
          "name": "stdout",
          "text": [
            "[['ham', 'cheese'], ['ham', 'bread'], ['cheese', 'bread']]\n"
          ]
        }
      ]
    },
    {
      "cell_type": "markdown",
      "source": [
        "### Reviewing combined_data_*.txt"
      ],
      "metadata": {
        "id": "XaFpBbEj6o0T"
      }
    },
    {
      "cell_type": "markdown",
      "source": [
        "#### Total number of movie rating\n",
        "\n",
        "\n"
      ],
      "metadata": {
        "id": "V2tIro6a6x6Q"
      }
    },
    {
      "cell_type": "code",
      "source": [
        "def count_total_records(filenames):\n",
        "  '''\n",
        "  Takes a list of filenames \"*.txt\" and returns the total number of records among the files\n",
        "  '''\n",
        "\n",
        "  res = 0\n",
        "\n",
        "  for filename in filenames:\n",
        "    with open(filename, 'r') as file:\n",
        "      for line in file:\n",
        "        if not line.endswith(':\\n'):\n",
        "          res += 1\n",
        "  return res"
      ],
      "metadata": {
        "id": "gJ0eq5vx61nn"
      },
      "execution_count": 68,
      "outputs": []
    },
    {
      "cell_type": "code",
      "source": [
        "filenames = [\"combined_data_1.txt\", \"combined_data_2.txt\", \"combined_data_3.txt\", \"combined_data_4.txt\"]\n",
        "print(f'Total number of records: {count_total_records(filenames)}')"
      ],
      "metadata": {
        "colab": {
          "base_uri": "https://localhost:8080/"
        },
        "id": "UKe1lLfS7vFx",
        "outputId": "27476228-5965-4d5c-971f-3350f64a9473"
      },
      "execution_count": 69,
      "outputs": [
        {
          "output_type": "stream",
          "name": "stdout",
          "text": [
            "Total number of records: 100480507\n"
          ]
        }
      ]
    },
    {
      "cell_type": "markdown",
      "source": [
        "#### Total number of unique users"
      ],
      "metadata": {
        "id": "M3kMNxC08FX9"
      }
    },
    {
      "cell_type": "code",
      "source": [
        "def count_unique_users(filenames):\n",
        "  '''\n",
        "  Takes a list of filenames \"*.txt\" and returns the total number of unique users\n",
        "  '''\n",
        "\n",
        "  unique_users = set()\n",
        "  for filename in filenames:\n",
        "    with open(filename, 'r') as file:\n",
        "      for line in file:\n",
        "        if not line.endswith(':\\n'):\n",
        "          unique_users.add(line.split(',')[0])\n",
        "  return len(unique_users)"
      ],
      "metadata": {
        "id": "5K7j0kdp8LRm"
      },
      "execution_count": 71,
      "outputs": []
    },
    {
      "cell_type": "code",
      "source": [
        "filenames = [\"combined_data_1.txt\", \"combined_data_2.txt\", \"combined_data_3.txt\", \"combined_data_4.txt\"]\n",
        "print(f'Total number of unique users: {count_unique_users(filenames)}')"
      ],
      "metadata": {
        "colab": {
          "base_uri": "https://localhost:8080/"
        },
        "id": "h0FkvXv38cLC",
        "outputId": "41c447fa-557f-4286-9379-b20f2bc38837"
      },
      "execution_count": 72,
      "outputs": [
        {
          "output_type": "stream",
          "name": "stdout",
          "text": [
            "Total number of unique users: 480189\n"
          ]
        }
      ]
    },
    {
      "cell_type": "markdown",
      "source": [
        "#### Range of years for valid data"
      ],
      "metadata": {
        "id": "YrKNvDjrAoXs"
      }
    },
    {
      "cell_type": "code",
      "source": [
        "def range_of_years(filenames):\n",
        "  '''\n",
        "  Takes a list of filenames \"*.txt\" and returns the range of years for valid data\n",
        "  '''\n",
        "\n",
        "  min_year = float('inf')\n",
        "  max_year = float('-inf')\n",
        "\n",
        "  for filename in filenames:\n",
        "    with open(filename, 'r') as file:\n",
        "      for line in file:\n",
        "        if not line.endswith(':\\n'):\n",
        "          date = line.split(',')[2]\n",
        "          year = int(date.split('-')[0])\n",
        "          min_year = min(min_year, year)\n",
        "          max_year = max(max_year, year)\n",
        "  return min_year, max_year"
      ],
      "metadata": {
        "id": "iwCuc2OSAtyg"
      },
      "execution_count": 94,
      "outputs": []
    },
    {
      "cell_type": "code",
      "source": [
        "filenames = [\"combined_data_1.txt\", \"combined_data_2.txt\", \"combined_data_3.txt\", \"combined_data_4.txt\"]\n",
        "print(f'Range of years for valid data: {range_of_years(filenames)}')"
      ],
      "metadata": {
        "colab": {
          "base_uri": "https://localhost:8080/"
        },
        "id": "ti1bBYFvBZkd",
        "outputId": "7e980d7b-e6b6-4b4a-a274-a776b6beef2c"
      },
      "execution_count": 95,
      "outputs": [
        {
          "output_type": "stream",
          "name": "stdout",
          "text": [
            "Range of years for valid data: (1999, 2005)\n"
          ]
        }
      ]
    },
    {
      "cell_type": "markdown",
      "source": [
        "### Reviewing movie_titles.csv"
      ],
      "metadata": {
        "id": "Y9JbcOh-Dv88"
      }
    },
    {
      "cell_type": "markdown",
      "source": [
        "#### Number of Distinct Movie Names"
      ],
      "metadata": {
        "id": "OoOQ6FF9D4o2"
      }
    },
    {
      "cell_type": "code",
      "source": [
        "def count_movie_names(filename):\n",
        "  '''\n",
        "    Count the number of unique movie titles.\n",
        "  '''\n",
        "\n",
        "  names = set()\n",
        "\n",
        "  with open (filename, 'r', encoding='latin-1') as file:\n",
        "    for line in file:\n",
        "      name = line.split(',', 2)[2]\n",
        "      names.add(name)\n",
        "  return len(names)"
      ],
      "metadata": {
        "id": "d-M7g8zXDyZg"
      },
      "execution_count": 107,
      "outputs": []
    },
    {
      "cell_type": "code",
      "source": [
        "print (f'The number of unique movie names: {count_movie_names(\"movie_titles.csv\")}')"
      ],
      "metadata": {
        "colab": {
          "base_uri": "https://localhost:8080/"
        },
        "id": "JVouLXsHD4MD",
        "outputId": "86f7e906-6aa6-4306-f79b-19773d22dea6"
      },
      "execution_count": 112,
      "outputs": [
        {
          "output_type": "stream",
          "name": "stdout",
          "text": [
            "The number of unique movie names: 17359\n"
          ]
        }
      ]
    },
    {
      "cell_type": "markdown",
      "source": [
        "#### Movies with multiple versions"
      ],
      "metadata": {
        "id": "fyPANmDSHD2w"
      }
    },
    {
      "cell_type": "code",
      "source": [
        "def movies_with_multiple_versions(filename, num_movies):\n",
        "  '''\n",
        "  Count how many movie names refer to exactly the 'num_movies' different movies\n",
        "  '''\n",
        "\n",
        "  names = {}\n",
        "\n",
        "  with open (filename, 'r', encoding='latin-1') as file:\n",
        "    for line in file:\n",
        "      name = line.split(',', 2)[2]\n",
        "      if name in names:\n",
        "        names[name] += 1\n",
        "      else:\n",
        "        names[name] = 1\n",
        "\n",
        "  res = 0\n",
        "  for name, count in names.items():\n",
        "    if count == num_movies:\n",
        "      res += 1\n",
        "  return res"
      ],
      "metadata": {
        "id": "H9mppAgAFOMp"
      },
      "execution_count": 110,
      "outputs": []
    },
    {
      "cell_type": "code",
      "source": [
        "print(f\"There are {movies_with_multiple_versions('movie_titles.csv', 4)} referring to four different movies\")"
      ],
      "metadata": {
        "colab": {
          "base_uri": "https://localhost:8080/"
        },
        "id": "a7ROatBcII_Z",
        "outputId": "05aca06a-78b3-430a-da72-6ec88b2ffe98"
      },
      "execution_count": 114,
      "outputs": [
        {
          "output_type": "stream",
          "name": "stdout",
          "text": [
            "There are 5 referring to four different movies\n"
          ]
        }
      ]
    },
    {
      "cell_type": "markdown",
      "source": [
        "### Reviewing both files"
      ],
      "metadata": {
        "id": "i7qND_C9I2Tl"
      }
    },
    {
      "cell_type": "markdown",
      "source": [
        "#### Number of users rated exactly 200 movies"
      ],
      "metadata": {
        "id": "TDbZzLe4I6KF"
      }
    },
    {
      "cell_type": "code",
      "source": [
        "def count_user_ratings(filenames):\n",
        "  '''\n",
        "  Reads the filenames and returns 2 dictionaries:\n",
        "\n",
        "  - user_rating_count: key is user ID, value is the number of movies rated\n",
        "  - user_movie_ratings: key is user ID, value is a list of tuples (movie ID, rating)\n",
        "  '''\n",
        "\n",
        "  user_ratings_count = {} # user_id : count of movies rated\n",
        "  user_movie_ratings = {} # user_id: [(movie ID, rating)]\n",
        "\n",
        "  for filename in filenames:\n",
        "    with open(filename, 'r') as file:\n",
        "      current_movie_id = 0\n",
        "      for line in file:\n",
        "        line = line.strip() # get rid off the \\n\n",
        "        if line.endswith(':'):\n",
        "          current_movie_id = line[:-1]\n",
        "        else:\n",
        "          user_id, rating, _ = line.split(',')\n",
        "          user_id = int(user_id)\n",
        "          rating = int(rating)\n",
        "\n",
        "          if user_id not in user_ratings_count:\n",
        "            user_ratings_count[user_id] = 0\n",
        "            user_movie_ratings[user_id] = []\n",
        "          user_ratings_count[user_id] += 1\n",
        "          user_movie_ratings[user_id].append((current_movie_id, rating))\n",
        "  return user_ratings_count, user_movie_ratings\n",
        ""
      ],
      "metadata": {
        "id": "L10GY00IIOar"
      },
      "execution_count": 116,
      "outputs": []
    },
    {
      "cell_type": "code",
      "source": [
        "filenames = [\"combined_data_1.txt\", \"combined_data_2.txt\", \"combined_data_3.txt\", \"combined_data_4.txt\"]\n",
        "user_ratings_count, user_movie_ratings = count_user_ratings(filenames)"
      ],
      "metadata": {
        "id": "akIWQI-YMnZ1"
      },
      "execution_count": 117,
      "outputs": []
    },
    {
      "cell_type": "code",
      "source": [
        "# number of users rated exactly 200 movies\n",
        "def find_users_with_200_ratings(user_rating_counts):\n",
        "  '''\n",
        "  Takes a dictionary and returns a list of user IDs for users who rated exactly 200 movies\n",
        "  '''\n",
        "  res = []\n",
        "  for user_id, count in user_ratings_count.items():\n",
        "    if count == 200:\n",
        "      res.append(user_id)\n",
        "  return res"
      ],
      "metadata": {
        "id": "ph-TVBXvQ2Wz"
      },
      "execution_count": 118,
      "outputs": []
    },
    {
      "cell_type": "code",
      "source": [
        "# number of users rated exactly 200 movies\n",
        "users = find_users_with_200_ratings(user_ratings_count)\n",
        "print(f'Number of users rated exactly 200 movies: {len(users)}')\n",
        "min_id = min(users)\n",
        "print(f'Min user ID: {min_id}')"
      ],
      "metadata": {
        "colab": {
          "base_uri": "https://localhost:8080/"
        },
        "id": "nltqjBS1RMVf",
        "outputId": "251566ef-c76f-4293-cac4-b5375e4e2032"
      },
      "execution_count": 119,
      "outputs": [
        {
          "output_type": "stream",
          "name": "stdout",
          "text": [
            "Number of users rated exactly 200 movies: 605\n",
            "Min user ID: 508\n"
          ]
        }
      ]
    },
    {
      "cell_type": "code",
      "source": [
        "def get_movie_title(filename):\n",
        "  '''\n",
        "  Reads the movie titles and returns a dictionary mapping movie ID to movie title\n",
        "  '''\n",
        "  movie_titles = {}\n",
        "  with open(filename, 'r', encoding='latin-1') as file:\n",
        "    for line in file:\n",
        "      movie_id, year, title = line.strip().split(',', 2)\n",
        "      movie_titles[movie_id] = title\n",
        "  return movie_titles"
      ],
      "metadata": {
        "id": "4eWbNi4DThiX"
      },
      "execution_count": 124,
      "outputs": []
    },
    {
      "cell_type": "code",
      "source": [
        "def get_five_star_movies(user_id, user_movie_ratings, movie_titles):\n",
        "  '''\n",
        "  Takes a user ID, and returns a list of movie titles that the user rated 5 stars\n",
        "  '''\n",
        "  movie_ids = []\n",
        "  res = []\n",
        "\n",
        "  for user, movie_ratings in user_movie_ratings.items():\n",
        "    if user == user_id:\n",
        "      for rating in movie_ratings:\n",
        "        if rating[1] == 5:\n",
        "          movie_ids.append(rating[0])\n",
        "\n",
        "  for movie_id in movie_ids:\n",
        "    res.append(movie_titles[movie_id])\n",
        "  return res"
      ],
      "metadata": {
        "id": "pg7Se7cOUQ29"
      },
      "execution_count": 125,
      "outputs": []
    },
    {
      "cell_type": "code",
      "source": [
        "get_five_star_movies(min_id, user_movie_ratings, get_movie_title(\"movie_titles.csv\"))"
      ],
      "metadata": {
        "colab": {
          "base_uri": "https://localhost:8080/"
        },
        "id": "wGtL5s2PU9lN",
        "outputId": "7b732740-74c6-4655-f71c-4f08ee1bc83f"
      },
      "execution_count": 126,
      "outputs": [
        {
          "output_type": "execute_result",
          "data": {
            "text/plain": [
              "['High Fidelity',\n",
              " \"Monty Python's The Meaning of Life: Special Edition\",\n",
              " 'American Beauty',\n",
              " 'Roger & Me',\n",
              " 'Eternal Sunshine of the Spotless Mind',\n",
              " 'Being John Malkovich',\n",
              " 'Vietnam: A Television History',\n",
              " 'Super Size Me',\n",
              " 'Lord of the Rings: The Fellowship of the Ring',\n",
              " 'This Is Spinal Tap',\n",
              " 'The Pianist',\n",
              " 'The Silence of the Lambs',\n",
              " 'Sideways',\n",
              " 'Whale Rider',\n",
              " 'Garden State',\n",
              " 'Bowling for Columbine',\n",
              " 'Gandhi',\n",
              " 'Apocalypse Now Redux',\n",
              " 'To Die For',\n",
              " \"Monty Python's Life of Brian\",\n",
              " 'The Manchurian Candidate',\n",
              " 'Memento',\n",
              " 'Amelie',\n",
              " 'Apocalypse Now',\n",
              " 'The Usual Suspects',\n",
              " 'Lord of the Rings: The Two Towers: Extended Edition',\n",
              " 'The Lord of the Rings: The Fellowship of the Ring: Extended Edition',\n",
              " 'Touching the Void',\n",
              " 'Minority Report',\n",
              " 'The Royal Tenenbaums',\n",
              " 'Election',\n",
              " 'Good Will Hunting',\n",
              " 'L.A. Confidential',\n",
              " 'Taxi Driver',\n",
              " 'Lord of the Rings: The Two Towers',\n",
              " 'Cabaret',\n",
              " 'Adaptation',\n",
              " 'The Accused',\n",
              " 'Lost in Translation',\n",
              " \"Boys Don't Cry\",\n",
              " 'To Be and To Have',\n",
              " \"Schindler's List\",\n",
              " 'Raging Bull',\n",
              " 'Lord of the Rings: The Return of the King',\n",
              " 'Monty Python and the Holy Grail',\n",
              " 'Raising Arizona',\n",
              " 'The Shawshank Redemption: Special Edition',\n",
              " 'Harold and Maude',\n",
              " 'Downfall',\n",
              " 'Lord of the Rings: The Return of the King: Extended Edition',\n",
              " 'Monster',\n",
              " 'Band of Brothers',\n",
              " 'Three Kings',\n",
              " 'Unforgiven',\n",
              " 'Maria Full of Grace',\n",
              " 'Days of Wine and Roses',\n",
              " 'Shakespeare in Love']"
            ]
          },
          "metadata": {},
          "execution_count": 126
        }
      ]
    },
    {
      "cell_type": "code",
      "source": [],
      "metadata": {
        "id": "uksY9RGWVDss"
      },
      "execution_count": null,
      "outputs": []
    }
  ],
  "metadata": {
    "colab": {
      "provenance": [],
      "collapsed_sections": [
        "qbDWR7oYo9DZ",
        "gVsjACjR0KcY"
      ],
      "include_colab_link": true
    },
    "kernelspec": {
      "display_name": "Python 3",
      "name": "python3"
    },
    "language_info": {
      "name": "python"
    }
  },
  "nbformat": 4,
  "nbformat_minor": 0
}